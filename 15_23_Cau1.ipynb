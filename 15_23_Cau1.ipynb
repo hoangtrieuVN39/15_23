{
 "cells": [
  {
   "cell_type": "code",
   "execution_count": 1,
   "metadata": {},
   "outputs": [],
   "source": [
    "import re\n",
    "import os\n",
    "import requests\n",
    "from emot.emo_unicode import UNICODE_EMOJI\n",
    "from emot.emo_unicode import EMOTICONS_EMO\n",
    "from nltk.corpus import stopwords\n",
    "import nltk\n",
    "from textblob import TextBlob\n",
    "\n",
    "lookup_dict = {'nlp':'natural language processing', 'ur':'your', \"wbu\" : \"what about you\"}\n",
    "\n",
    "def text_std(input_text):\n",
    "     words = input_text.split()\n",
    "     text_pre=\"\"\n",
    "     for word in words:\n",
    "          w=word\n",
    "          w = re.sub(r'[^\\w\\s]','',w)\n",
    "          if w.lower() in lookup_dict:\n",
    "               word=lookup_dict[w]\n",
    "          text_pre=text_pre + \" \" + word     \n",
    "     return text_pre\n",
    "\n",
    "def NLP(Text):\n",
    "     Text=Text.lower()\n",
    "     Text = re.sub(r'http\\S+','', Text, flags=re.MULTILINE)\n",
    "     Text=Text.split(\".\")\n",
    "     Text=\" \".join(Text)\n",
    "     Text=re.sub(r'[^\\w\\s]','',Text)\n",
    "     Text= re.sub(r\"\\d+\", \" \", Text)\n",
    "     Text=converting_emojis(Text)\n",
    "     Text = \" \".join(text for text in Text.split() if text not in stopwords.words('english'))\n",
    "     Text = text_std(Text)\n",
    "     Text=TextBlob(Text).correct()\n",
    "     Text=nltk.word_tokenize(str(Text))\n",
    "     return \" \".join(Text)\n",
    "\n",
    "def converting_emojis(text):\n",
    "     for x in EMOTICONS_EMO:\n",
    "          text = text.replace(x, \"_\".join(EMOTICONS_EMO[x].replace(\",\",\"\").replace(\":\",\"\").split()))\n",
    "     for x in UNICODE_EMOJI:\n",
    "          text = text.replace(x, \"_\".join(UNICODE_EMOJI[x].replace(\",\",\"\").replace(\":\",\"\").split()))\n",
    "     return text"
   ]
  },
  {
   "cell_type": "code",
   "execution_count": 3,
   "metadata": {},
   "outputs": [
    {
     "ename": "KeyboardInterrupt",
     "evalue": "",
     "output_type": "error",
     "traceback": [
      "\u001b[1;31m---------------------------------------------------------------------------\u001b[0m",
      "\u001b[1;31mKeyboardInterrupt\u001b[0m                         Traceback (most recent call last)",
      "\u001b[1;32me:\\Máy tính\\college\\Khai phá dữ liệu web\\C3\\23_Cau1.ipynb Cell 2\u001b[0m line \u001b[0;36m1\n\u001b[0;32m      <a href='vscode-notebook-cell:/e%3A/M%C3%A1y%20t%C3%ADnh/college/Khai%20ph%C3%A1%20d%E1%BB%AF%20li%E1%BB%87u%20web/C3/23_Cau1.ipynb#W1sZmlsZQ%3D%3D?line=7'>8</a>\u001b[0m \u001b[39mwith\u001b[39;00m \u001b[39mopen\u001b[39m(path,\u001b[39m\"\u001b[39m\u001b[39mr\u001b[39m\u001b[39m\"\u001b[39m,encoding\u001b[39m=\u001b[39m\u001b[39m\"\u001b[39m\u001b[39mutf-8\u001b[39m\u001b[39m\"\u001b[39m) \u001b[39mas\u001b[39;00m f:\n\u001b[0;32m      <a href='vscode-notebook-cell:/e%3A/M%C3%A1y%20t%C3%ADnh/college/Khai%20ph%C3%A1%20d%E1%BB%AF%20li%E1%BB%87u%20web/C3/23_Cau1.ipynb#W1sZmlsZQ%3D%3D?line=8'>9</a>\u001b[0m      text \u001b[39m=\u001b[39m f\u001b[39m.\u001b[39mread()\n\u001b[1;32m---> <a href='vscode-notebook-cell:/e%3A/M%C3%A1y%20t%C3%ADnh/college/Khai%20ph%C3%A1%20d%E1%BB%AF%20li%E1%BB%87u%20web/C3/23_Cau1.ipynb#W1sZmlsZQ%3D%3D?line=9'>10</a>\u001b[0m      text \u001b[39m=\u001b[39m NLP(text)\n\u001b[0;32m     <a href='vscode-notebook-cell:/e%3A/M%C3%A1y%20t%C3%ADnh/college/Khai%20ph%C3%A1%20d%E1%BB%AF%20li%E1%BB%87u%20web/C3/23_Cau1.ipynb#W1sZmlsZQ%3D%3D?line=10'>11</a>\u001b[0m \u001b[39mwith\u001b[39;00m \u001b[39mopen\u001b[39m(res\u001b[39m+\u001b[39m\u001b[39mstr\u001b[39m(i)\u001b[39m+\u001b[39m\u001b[39m\"\u001b[39m\u001b[39m.txt\u001b[39m\u001b[39m\"\u001b[39m,\u001b[39m\"\u001b[39m\u001b[39mw\u001b[39m\u001b[39m\"\u001b[39m,encoding\u001b[39m=\u001b[39m\u001b[39m\"\u001b[39m\u001b[39mutf-8\u001b[39m\u001b[39m\"\u001b[39m) \u001b[39mas\u001b[39;00m f:\n\u001b[0;32m     <a href='vscode-notebook-cell:/e%3A/M%C3%A1y%20t%C3%ADnh/college/Khai%20ph%C3%A1%20d%E1%BB%AF%20li%E1%BB%87u%20web/C3/23_Cau1.ipynb#W1sZmlsZQ%3D%3D?line=11'>12</a>\u001b[0m      f\u001b[39m.\u001b[39mwrite(text)\n",
      "\u001b[1;32me:\\Máy tính\\college\\Khai phá dữ liệu web\\C3\\23_Cau1.ipynb Cell 2\u001b[0m line \u001b[0;36m3\n\u001b[0;32m     <a href='vscode-notebook-cell:/e%3A/M%C3%A1y%20t%C3%ADnh/college/Khai%20ph%C3%A1%20d%E1%BB%AF%20li%E1%BB%87u%20web/C3/23_Cau1.ipynb#W1sZmlsZQ%3D%3D?line=30'>31</a>\u001b[0m Text \u001b[39m=\u001b[39m \u001b[39m\"\u001b[39m\u001b[39m \u001b[39m\u001b[39m\"\u001b[39m\u001b[39m.\u001b[39mjoin(text \u001b[39mfor\u001b[39;00m text \u001b[39min\u001b[39;00m Text\u001b[39m.\u001b[39msplit() \u001b[39mif\u001b[39;00m text \u001b[39mnot\u001b[39;00m \u001b[39min\u001b[39;00m stopwords\u001b[39m.\u001b[39mwords(\u001b[39m'\u001b[39m\u001b[39menglish\u001b[39m\u001b[39m'\u001b[39m))\n\u001b[0;32m     <a href='vscode-notebook-cell:/e%3A/M%C3%A1y%20t%C3%ADnh/college/Khai%20ph%C3%A1%20d%E1%BB%AF%20li%E1%BB%87u%20web/C3/23_Cau1.ipynb#W1sZmlsZQ%3D%3D?line=31'>32</a>\u001b[0m Text \u001b[39m=\u001b[39m text_std(Text)\n\u001b[1;32m---> <a href='vscode-notebook-cell:/e%3A/M%C3%A1y%20t%C3%ADnh/college/Khai%20ph%C3%A1%20d%E1%BB%AF%20li%E1%BB%87u%20web/C3/23_Cau1.ipynb#W1sZmlsZQ%3D%3D?line=32'>33</a>\u001b[0m Text\u001b[39m=\u001b[39mTextBlob(Text)\u001b[39m.\u001b[39;49mcorrect()\n\u001b[0;32m     <a href='vscode-notebook-cell:/e%3A/M%C3%A1y%20t%C3%ADnh/college/Khai%20ph%C3%A1%20d%E1%BB%AF%20li%E1%BB%87u%20web/C3/23_Cau1.ipynb#W1sZmlsZQ%3D%3D?line=33'>34</a>\u001b[0m Text\u001b[39m=\u001b[39mnltk\u001b[39m.\u001b[39mword_tokenize(\u001b[39mstr\u001b[39m(Text))\n\u001b[0;32m     <a href='vscode-notebook-cell:/e%3A/M%C3%A1y%20t%C3%ADnh/college/Khai%20ph%C3%A1%20d%E1%BB%AF%20li%E1%BB%87u%20web/C3/23_Cau1.ipynb#W1sZmlsZQ%3D%3D?line=34'>35</a>\u001b[0m \u001b[39mreturn\u001b[39;00m \u001b[39m\"\u001b[39m\u001b[39m \u001b[39m\u001b[39m\"\u001b[39m\u001b[39m.\u001b[39mjoin(Text)\n",
      "File \u001b[1;32mc:\\Users\\hoang\\AppData\\Local\\Programs\\Python\\Python311\\Lib\\site-packages\\textblob\\blob.py:609\u001b[0m, in \u001b[0;36mBaseBlob.correct\u001b[1;34m(self)\u001b[0m\n\u001b[0;32m    607\u001b[0m tokens \u001b[39m=\u001b[39m nltk\u001b[39m.\u001b[39mtokenize\u001b[39m.\u001b[39mregexp_tokenize(\u001b[39mself\u001b[39m\u001b[39m.\u001b[39mraw, \u001b[39mr\u001b[39m\u001b[39m\"\u001b[39m\u001b[39m\\\u001b[39m\u001b[39mw+|[^\u001b[39m\u001b[39m\\\u001b[39m\u001b[39mw\u001b[39m\u001b[39m\\\u001b[39m\u001b[39ms]|\u001b[39m\u001b[39m\\\u001b[39m\u001b[39ms\u001b[39m\u001b[39m\"\u001b[39m)\n\u001b[0;32m    608\u001b[0m corrected \u001b[39m=\u001b[39m (Word(w)\u001b[39m.\u001b[39mcorrect() \u001b[39mfor\u001b[39;00m w \u001b[39min\u001b[39;00m tokens)\n\u001b[1;32m--> 609\u001b[0m ret \u001b[39m=\u001b[39m \u001b[39m'\u001b[39m\u001b[39m'\u001b[39m\u001b[39m.\u001b[39mjoin(corrected)\n\u001b[0;32m    610\u001b[0m \u001b[39mreturn\u001b[39;00m \u001b[39mself\u001b[39m\u001b[39m.\u001b[39m\u001b[39m__class__\u001b[39m(ret)\n",
      "File \u001b[1;32mc:\\Users\\hoang\\AppData\\Local\\Programs\\Python\\Python311\\Lib\\site-packages\\textblob\\blob.py:608\u001b[0m, in \u001b[0;36m<genexpr>\u001b[1;34m(.0)\u001b[0m\n\u001b[0;32m    606\u001b[0m \u001b[39m# regex matches: word or punctuation or whitespace\u001b[39;00m\n\u001b[0;32m    607\u001b[0m tokens \u001b[39m=\u001b[39m nltk\u001b[39m.\u001b[39mtokenize\u001b[39m.\u001b[39mregexp_tokenize(\u001b[39mself\u001b[39m\u001b[39m.\u001b[39mraw, \u001b[39mr\u001b[39m\u001b[39m\"\u001b[39m\u001b[39m\\\u001b[39m\u001b[39mw+|[^\u001b[39m\u001b[39m\\\u001b[39m\u001b[39mw\u001b[39m\u001b[39m\\\u001b[39m\u001b[39ms]|\u001b[39m\u001b[39m\\\u001b[39m\u001b[39ms\u001b[39m\u001b[39m\"\u001b[39m)\n\u001b[1;32m--> 608\u001b[0m corrected \u001b[39m=\u001b[39m (Word(w)\u001b[39m.\u001b[39;49mcorrect() \u001b[39mfor\u001b[39;00m w \u001b[39min\u001b[39;00m tokens)\n\u001b[0;32m    609\u001b[0m ret \u001b[39m=\u001b[39m \u001b[39m'\u001b[39m\u001b[39m'\u001b[39m\u001b[39m.\u001b[39mjoin(corrected)\n\u001b[0;32m    610\u001b[0m \u001b[39mreturn\u001b[39;00m \u001b[39mself\u001b[39m\u001b[39m.\u001b[39m\u001b[39m__class__\u001b[39m(ret)\n",
      "File \u001b[1;32mc:\\Users\\hoang\\AppData\\Local\\Programs\\Python\\Python311\\Lib\\site-packages\\textblob\\blob.py:142\u001b[0m, in \u001b[0;36mWord.correct\u001b[1;34m(self)\u001b[0m\n\u001b[0;32m    136\u001b[0m \u001b[39mdef\u001b[39;00m \u001b[39mcorrect\u001b[39m(\u001b[39mself\u001b[39m):\n\u001b[0;32m    137\u001b[0m \u001b[39m    \u001b[39m\u001b[39m'''Correct the spelling of the word. Returns the word with the highest\u001b[39;00m\n\u001b[0;32m    138\u001b[0m \u001b[39m    confidence using the spelling corrector.\u001b[39;00m\n\u001b[0;32m    139\u001b[0m \n\u001b[0;32m    140\u001b[0m \u001b[39m    .. versionadded:: 0.6.0\u001b[39;00m\n\u001b[0;32m    141\u001b[0m \u001b[39m    '''\u001b[39;00m\n\u001b[1;32m--> 142\u001b[0m     \u001b[39mreturn\u001b[39;00m Word(\u001b[39mself\u001b[39;49m\u001b[39m.\u001b[39;49mspellcheck()[\u001b[39m0\u001b[39m][\u001b[39m0\u001b[39m])\n",
      "File \u001b[1;32mc:\\Users\\hoang\\AppData\\Local\\Programs\\Python\\Python311\\Lib\\site-packages\\textblob\\blob.py:134\u001b[0m, in \u001b[0;36mWord.spellcheck\u001b[1;34m(self)\u001b[0m\n\u001b[0;32m    125\u001b[0m \u001b[39mdef\u001b[39;00m \u001b[39mspellcheck\u001b[39m(\u001b[39mself\u001b[39m):\n\u001b[0;32m    126\u001b[0m \u001b[39m    \u001b[39m\u001b[39m'''Return a list of (word, confidence) tuples of spelling corrections.\u001b[39;00m\n\u001b[0;32m    127\u001b[0m \n\u001b[0;32m    128\u001b[0m \u001b[39m    Based on: Peter Norvig, \"How to Write a Spelling Corrector\"\u001b[39;00m\n\u001b[1;32m   (...)\u001b[0m\n\u001b[0;32m    132\u001b[0m \u001b[39m    .. versionadded:: 0.6.0\u001b[39;00m\n\u001b[0;32m    133\u001b[0m \u001b[39m    '''\u001b[39;00m\n\u001b[1;32m--> 134\u001b[0m     \u001b[39mreturn\u001b[39;00m suggest(\u001b[39mself\u001b[39;49m\u001b[39m.\u001b[39;49mstring)\n",
      "File \u001b[1;32mc:\\Users\\hoang\\AppData\\Local\\Programs\\Python\\Python311\\Lib\\site-packages\\textblob\\en\\__init__.py:123\u001b[0m, in \u001b[0;36msuggest\u001b[1;34m(w)\u001b[0m\n\u001b[0;32m    120\u001b[0m \u001b[39mdef\u001b[39;00m \u001b[39msuggest\u001b[39m(w):\n\u001b[0;32m    121\u001b[0m \u001b[39m    \u001b[39m\u001b[39m\"\"\" Returns a list of (word, confidence)-tuples of spelling corrections.\u001b[39;00m\n\u001b[0;32m    122\u001b[0m \u001b[39m    \"\"\"\u001b[39;00m\n\u001b[1;32m--> 123\u001b[0m     \u001b[39mreturn\u001b[39;00m spelling\u001b[39m.\u001b[39;49msuggest(w)\n",
      "File \u001b[1;32mc:\\Users\\hoang\\AppData\\Local\\Programs\\Python\\Python311\\Lib\\site-packages\\textblob\\_text.py:1399\u001b[0m, in \u001b[0;36mSpelling.suggest\u001b[1;34m(self, w)\u001b[0m\n\u001b[0;32m   1395\u001b[0m \u001b[39mif\u001b[39;00m w\u001b[39m.\u001b[39mreplace(\u001b[39m\"\u001b[39m\u001b[39m.\u001b[39m\u001b[39m\"\u001b[39m, \u001b[39m\"\u001b[39m\u001b[39m\"\u001b[39m)\u001b[39m.\u001b[39misdigit():\n\u001b[0;32m   1396\u001b[0m     \u001b[39mreturn\u001b[39;00m [(w, \u001b[39m1.0\u001b[39m)] \u001b[39m# 1.5\u001b[39;00m\n\u001b[0;32m   1397\u001b[0m candidates \u001b[39m=\u001b[39m \u001b[39mself\u001b[39m\u001b[39m.\u001b[39m_known([w]) \\\n\u001b[0;32m   1398\u001b[0m           \u001b[39mor\u001b[39;00m \u001b[39mself\u001b[39m\u001b[39m.\u001b[39m_known(\u001b[39mself\u001b[39m\u001b[39m.\u001b[39m_edit1(w)) \\\n\u001b[1;32m-> 1399\u001b[0m           \u001b[39mor\u001b[39;00m \u001b[39mself\u001b[39m\u001b[39m.\u001b[39m_known(\u001b[39mself\u001b[39;49m\u001b[39m.\u001b[39;49m_edit2(w)) \\\n\u001b[0;32m   1400\u001b[0m           \u001b[39mor\u001b[39;00m [w]\n\u001b[0;32m   1401\u001b[0m candidates \u001b[39m=\u001b[39m [(\u001b[39mself\u001b[39m\u001b[39m.\u001b[39mget(c, \u001b[39m0.0\u001b[39m), c) \u001b[39mfor\u001b[39;00m c \u001b[39min\u001b[39;00m candidates]\n\u001b[0;32m   1402\u001b[0m s \u001b[39m=\u001b[39m \u001b[39mfloat\u001b[39m(\u001b[39msum\u001b[39m(p \u001b[39mfor\u001b[39;00m p, word \u001b[39min\u001b[39;00m candidates) \u001b[39mor\u001b[39;00m \u001b[39m1\u001b[39m)\n",
      "File \u001b[1;32mc:\\Users\\hoang\\AppData\\Local\\Programs\\Python\\Python311\\Lib\\site-packages\\textblob\\_text.py:1376\u001b[0m, in \u001b[0;36mSpelling._edit2\u001b[1;34m(self, w)\u001b[0m\n\u001b[0;32m   1372\u001b[0m \u001b[39m\u001b[39m\u001b[39m\"\"\" Returns a set of words with edit distance 2 from the given word\u001b[39;00m\n\u001b[0;32m   1373\u001b[0m \u001b[39m\"\"\"\u001b[39;00m\n\u001b[0;32m   1374\u001b[0m \u001b[39m# Of all spelling errors, 99% is covered by edit distance 2.\u001b[39;00m\n\u001b[0;32m   1375\u001b[0m \u001b[39m# Only keep candidates that are actually known words (20% speedup).\u001b[39;00m\n\u001b[1;32m-> 1376\u001b[0m \u001b[39mreturn\u001b[39;00m \u001b[39mset\u001b[39m(e2 \u001b[39mfor\u001b[39;00m e1 \u001b[39min\u001b[39;00m \u001b[39mself\u001b[39m\u001b[39m.\u001b[39m_edit1(w) \u001b[39mfor\u001b[39;00m e2 \u001b[39min\u001b[39;00m \u001b[39mself\u001b[39m\u001b[39m.\u001b[39m_edit1(e1) \u001b[39mif\u001b[39;00m e2 \u001b[39min\u001b[39;00m \u001b[39mself\u001b[39m)\n",
      "File \u001b[1;32mc:\\Users\\hoang\\AppData\\Local\\Programs\\Python\\Python311\\Lib\\site-packages\\textblob\\_text.py:1376\u001b[0m, in \u001b[0;36m<genexpr>\u001b[1;34m(.0)\u001b[0m\n\u001b[0;32m   1372\u001b[0m \u001b[39m\u001b[39m\u001b[39m\"\"\" Returns a set of words with edit distance 2 from the given word\u001b[39;00m\n\u001b[0;32m   1373\u001b[0m \u001b[39m\"\"\"\u001b[39;00m\n\u001b[0;32m   1374\u001b[0m \u001b[39m# Of all spelling errors, 99% is covered by edit distance 2.\u001b[39;00m\n\u001b[0;32m   1375\u001b[0m \u001b[39m# Only keep candidates that are actually known words (20% speedup).\u001b[39;00m\n\u001b[1;32m-> 1376\u001b[0m \u001b[39mreturn\u001b[39;00m \u001b[39mset\u001b[39m(e2 \u001b[39mfor\u001b[39;00m e1 \u001b[39min\u001b[39;00m \u001b[39mself\u001b[39m\u001b[39m.\u001b[39m_edit1(w) \u001b[39mfor\u001b[39;00m e2 \u001b[39min\u001b[39;00m \u001b[39mself\u001b[39m\u001b[39m.\u001b[39m_edit1(e1) \u001b[39mif\u001b[39;00m e2 \u001b[39min\u001b[39;49;00m \u001b[39mself\u001b[39;49m)\n",
      "File \u001b[1;32mc:\\Users\\hoang\\AppData\\Local\\Programs\\Python\\Python311\\Lib\\site-packages\\textblob\\_text.py:95\u001b[0m, in \u001b[0;36mlazydict.__contains__\u001b[1;34m(self, *args)\u001b[0m\n\u001b[0;32m     93\u001b[0m \u001b[39mdef\u001b[39;00m \u001b[39m__iter__\u001b[39m(\u001b[39mself\u001b[39m):\n\u001b[0;32m     94\u001b[0m     \u001b[39mreturn\u001b[39;00m \u001b[39mself\u001b[39m\u001b[39m.\u001b[39m_lazy(\u001b[39m\"\u001b[39m\u001b[39m__iter__\u001b[39m\u001b[39m\"\u001b[39m)\n\u001b[1;32m---> 95\u001b[0m \u001b[39mdef\u001b[39;00m \u001b[39m__contains__\u001b[39m(\u001b[39mself\u001b[39m, \u001b[39m*\u001b[39margs):\n\u001b[0;32m     96\u001b[0m     \u001b[39mreturn\u001b[39;00m \u001b[39mself\u001b[39m\u001b[39m.\u001b[39m_lazy(\u001b[39m\"\u001b[39m\u001b[39m__contains__\u001b[39m\u001b[39m\"\u001b[39m, \u001b[39m*\u001b[39margs)\n\u001b[0;32m     97\u001b[0m \u001b[39mdef\u001b[39;00m \u001b[39m__getitem__\u001b[39m(\u001b[39mself\u001b[39m, \u001b[39m*\u001b[39margs):\n",
      "\u001b[1;31mKeyboardInterrupt\u001b[0m: "
     ]
    }
   ],
   "source": [
    "res=\"./data_preprocessing/\"\n",
    "if os.path.exists(res) == False: os.mkdir(res)\n",
    "sum=\"\"\n",
    "\n",
    "for i in range (10192,10540):\n",
    "     path = r\"./Data/Data3-20231102T011534Z-001/Data3/\" + str(i) + \".txt\"\n",
    "     if os.path.exists(path) == True:\n",
    "          with open(path,\"r\",encoding=\"utf-8\") as f:\n",
    "               text = f.read()\n",
    "               text = NLP(text)\n",
    "          with open(res+str(i)+\".txt\",\"w\",encoding=\"utf-8\") as f:\n",
    "               f.write(text)\n"
   ]
  },
  {
   "cell_type": "code",
   "execution_count": null,
   "metadata": {},
   "outputs": [],
   "source": []
  }
 ],
 "metadata": {
  "kernelspec": {
   "display_name": "Python 3",
   "language": "python",
   "name": "python3"
  },
  "language_info": {
   "codemirror_mode": {
    "name": "ipython",
    "version": 3
   },
   "file_extension": ".py",
   "mimetype": "text/x-python",
   "name": "python",
   "nbconvert_exporter": "python",
   "pygments_lexer": "ipython3",
   "version": "3.11.5"
  }
 },
 "nbformat": 4,
 "nbformat_minor": 2
}
