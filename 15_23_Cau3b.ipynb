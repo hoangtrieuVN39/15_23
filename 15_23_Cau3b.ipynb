{
 "cells": [
  {
   "cell_type": "code",
   "execution_count": 1,
   "metadata": {},
   "outputs": [],
   "source": [
    "import os\n",
    "res=\"./data_preprocessing/\"\n",
    "List=[]\n",
    "for i in range (10192,10540):\n",
    "     path = res + str(i) + \".txt\"\n",
    "     if os.path.exists(path) == True:\n",
    "          List=List+[path]"
   ]
  },
  {
   "cell_type": "code",
   "execution_count": 6,
   "metadata": {},
   "outputs": [
    {
     "name": "stdout",
     "output_type": "stream",
     "text": [
      "Vocabulary N-gram:\n",
      "{'the': 15, 'quick': 13, 'brown': 1, 'fox': 5, 'jumps': 7, 'over': 11, 'lazy': 9, 'dog': 3, 'and': 0, 'the quick': 17, 'quick brown': 14, 'brown fox': 2, 'fox jumps': 6, 'jumps over': 8, 'over the': 12, 'the lazy': 16, 'lazy dog': 10, 'dog and': 4}\n",
      "[1 1 1 1 1 1 1 1 1 1 1 1 1 1 1 1 1 1 1]\n",
      "Vocabulary N-gram:\n",
      "{'the': 15, 'quick': 13, 'brown': 1, 'fox': 5, 'jumps': 7, 'over': 11, 'lazy': 9, 'dog': 3, 'and': 0, 'the quick': 17, 'quick brown': 14, 'brown fox': 2, 'fox jumps': 6, 'jumps over': 8, 'over the': 12, 'the lazy': 16, 'lazy dog': 10, 'dog and': 4}\n",
      "[1 1 2 1 1 1 1 1 2 1 1 1 1 1 1 1 1 1 1 1 1 1 1 2 1 1 2 1 1 3 1 1 1 2 1 1 1\n",
      " 1 1 1 2 1 1 1 1 4 1 1 1 1 1 1 2 1 1 1 1 1 1 1 1 1 1 1 1 1 1 1 1 1 1 1 1 1\n",
      " 1]\n",
      "Vocabulary N-gram:\n",
      "{'the': 15, 'quick': 13, 'brown': 1, 'fox': 5, 'jumps': 7, 'over': 11, 'lazy': 9, 'dog': 3, 'and': 0, 'the quick': 17, 'quick brown': 14, 'brown fox': 2, 'fox jumps': 6, 'jumps over': 8, 'over the': 12, 'the lazy': 16, 'lazy dog': 10, 'dog and': 4}\n",
      "[2 1 1 1 1 1 1 4 1 1 1 1 1 1 1 1 1 1 1 1 2 1 1 1 1 1 1 1 1 1 1 1 1 1 1 1 1\n",
      " 1 1 1 2 1 1 1 1 1 1 1 1 1 1]\n",
      "Vocabulary N-gram:\n",
      "{'the': 15, 'quick': 13, 'brown': 1, 'fox': 5, 'jumps': 7, 'over': 11, 'lazy': 9, 'dog': 3, 'and': 0, 'the quick': 17, 'quick brown': 14, 'brown fox': 2, 'fox jumps': 6, 'jumps over': 8, 'over the': 12, 'the lazy': 16, 'lazy dog': 10, 'dog and': 4}\n",
      "[1 1 1 1 2 1 1 1 1 3 1 1 1 1 1 2 1 1 2 1 1 1 1 1 1 1 1 2 1 1 2 1 1 1 1 1 1\n",
      " 1 1 1 1 1 1 1 1 2 1 1 1 1 1 1 1 1 1 1 1 1 1 1 1 1 1 2 1 1 2 1 1 3 1 1 1 1\n",
      " 1 1 1 1 1 2 1 1 2 1 1 1 1 1 1]\n",
      "Vocabulary N-gram:\n",
      "{'the': 15, 'quick': 13, 'brown': 1, 'fox': 5, 'jumps': 7, 'over': 11, 'lazy': 9, 'dog': 3, 'and': 0, 'the quick': 17, 'quick brown': 14, 'brown fox': 2, 'fox jumps': 6, 'jumps over': 8, 'over the': 12, 'the lazy': 16, 'lazy dog': 10, 'dog and': 4}\n",
      "[1 1 1 1 1 1 1 1 1 1 1 1 1 1 1 1 1 1 1 1 1 1 1 1 1 1 1 3 1 1 1 1 1 1 1 1 1\n",
      " 1 1 1 1]\n",
      "Vocabulary N-gram:\n",
      "{'the': 15, 'quick': 13, 'brown': 1, 'fox': 5, 'jumps': 7, 'over': 11, 'lazy': 9, 'dog': 3, 'and': 0, 'the quick': 17, 'quick brown': 14, 'brown fox': 2, 'fox jumps': 6, 'jumps over': 8, 'over the': 12, 'the lazy': 16, 'lazy dog': 10, 'dog and': 4}\n",
      "[1 1 1 1 1 1 2 1 1 1 1 1 1 1 1 1 1 1 1 1 1 1 1 1 1 1 1 1 1 1 1 1 1 1 1 1 1\n",
      " 1 1 1 1 2 1 1 1 1 1 1 1 1 1 1 2 2 3 1 1 1 1 1 1 1 1]\n",
      "Vocabulary N-gram:\n",
      "{'the': 15, 'quick': 13, 'brown': 1, 'fox': 5, 'jumps': 7, 'over': 11, 'lazy': 9, 'dog': 3, 'and': 0, 'the quick': 17, 'quick brown': 14, 'brown fox': 2, 'fox jumps': 6, 'jumps over': 8, 'over the': 12, 'the lazy': 16, 'lazy dog': 10, 'dog and': 4}\n",
      "[1 1 2 1 1 1 1 1 1 1 1 1 1 1 1 1 1 1 1 1 1 1 1 1 1 1 1 1 1 1 2 1 1 5 1 1 1\n",
      " 1 1 1 1 1 1 1 1 1 1 1 1 1 1 1 1]\n"
     ]
    }
   ],
   "source": [
    "import nltk\n",
    "from nltk.stem import WordNetLemmatizer\n",
    "from nltk.corpus import stopwords\n",
    "from sklearn.feature_extraction.text import CountVectorizer\n",
    "\n",
    "for path in List:\n",
    "     with open(path, \"r\", encoding=\"utf-8\") as f:\n",
    "          text=f.read()\n",
    "     sentences = nltk.sent_tokenize(text)\n",
    "     \n",
    "     lemmatizer = WordNetLemmatizer()\n",
    "     for i in range(len(sentences)):\n",
    "          words = nltk.word_tokenize(sentences[i])\n",
    "          words = [lemmatizer.lemmatize(word) for word in words if word not in set(stopwords.words('english'))]\n",
    "          sentences[i] = ' '.join(words)\n",
    "\n",
    "     vectorizer = CountVectorizer(ngram_range=(1,2))\n",
    "     features = vectorizer.fit_transform(sentences)\n",
    "\n",
    "     arr=features.toarray()\n",
    "\n",
    "     print(\"Vocabulary N-gram:\")\n",
    "\n",
    "     for i in arr:\n",
    "          print(vectorizer.fit([\"The quick brown fox jumps over the lazy dog and\"]).vocabulary_)\n",
    "          print(i)"
   ]
  }
 ],
 "metadata": {
  "kernelspec": {
   "display_name": "Python 3",
   "language": "python",
   "name": "python3"
  },
  "language_info": {
   "codemirror_mode": {
    "name": "ipython",
    "version": 3
   },
   "file_extension": ".py",
   "mimetype": "text/x-python",
   "name": "python",
   "nbconvert_exporter": "python",
   "pygments_lexer": "ipython3",
   "version": "3.11.5"
  }
 },
 "nbformat": 4,
 "nbformat_minor": 2
}
